{
 "cells": [
  {
   "cell_type": "code",
   "execution_count": null,
   "id": "1f1dc3ec",
   "metadata": {},
   "outputs": [],
   "source": [
    "# Faça um programa que olhe todos os itens de uma lista e diga quantos deles são pares.\n",
    "\n",
    "lista1 = [1, 2, 3, 4, 5, 6, 7, 8, 9, 10]\n",
    "\n",
    "pares = []\n",
    "for i in lista1:\n",
    "    if i % 2 == 0:\n",
    "        pares.append(i)\n",
    "print(f'A lista possui {len(pares)} números pares.')"
   ]
  },
  {
   "cell_type": "code",
   "execution_count": null,
   "id": "d93146cd",
   "metadata": {},
   "outputs": [],
   "source": [
    "# Faça um programa que imprima o maior número de uma lista, sem usar o método max().\n",
    "\n",
    "lista2 = [5, 9, 2, 8, 3, 1, 7, 10, 6, 4]\n",
    "\n",
    "maior_numero = 0\n",
    "for i in lista2:\n",
    "    if i > maior_numero:\n",
    "        maior_numero = i\n",
    "print (f'O maior número da lista é {maior_numero}.')"
   ]
  },
  {
   "cell_type": "code",
   "execution_count": null,
   "id": "7c51a038",
   "metadata": {},
   "outputs": [],
   "source": [
    "# Faça um Programa que peça as 4 notas bimestrais e mostre a média, usando listas.\n",
    "\n",
    "from functools import reduce\n",
    "\n",
    "notas = []\n",
    "i = 0\n",
    "while i < 4:\n",
    "    notas.append(float(input(f'Digite o valor nota {i + 1}: ')))\n",
    "    i += 1\n",
    "\n",
    "soma = reduce(lambda x, y: x + y, notas)\n",
    "media = soma / len(notas)\n",
    "print(f'A média das notas é {media}.')"
   ]
  },
  {
   "cell_type": "code",
   "execution_count": null,
   "id": "7e20e5bc",
   "metadata": {
    "scrolled": true
   },
   "outputs": [],
   "source": [
    "# Considere que temos uma lista com os nomes de todos os alunos de uma turma, e outra com as notas, na mesma ordem. Como faríamos para acessar, simultaneamente, o nome de um aluno e a sua nota?\n",
    "\n",
    "alunos = [\"João\", \"Maria\", \"Carlos\", \"Ana\", \"Pedro\"]\n",
    "notas = [8.5, 7.2, 9.0, 6.8, 8.9]\n",
    "\n",
    "lista_combinada = list(zip(alunos, notas))\n",
    "\n",
    "while True:\n",
    "    aluno_desejado = input('Digite o nome do aluno para visualizar sua nota (ou \"parar\" para encerrar): ')\n",
    "\n",
    "    if aluno_desejado.lower() == 'parar':\n",
    "        print('Programa encerrado.')\n",
    "        break\n",
    "\n",
    "    for aluno, nota in zip(alunos, notas):\n",
    "        if aluno == aluno_desejado:\n",
    "            print(f'O aluno {aluno} recebeu a nota {nota}')\n",
    "            break\n",
    "    else:\n",
    "        print(f'O aluno(a) {aluno_desejado} não foi encontrado(a) na lista.')\n"
   ]
  },
  {
   "cell_type": "code",
   "execution_count": null,
   "id": "46fd3e70",
   "metadata": {},
   "outputs": [],
   "source": [
    "#Escreva um código em Python que recebe um número (que possa ter casas decimais) e a escala de temperatura em  que este valor se encontra e para qual ele deseja converter (Celsius, Kelvin ou Fahrenheit). Tanto na escala em que se encontra  quanto para a que deseja converter, utilize as letras iniciais como entrada: Celsius - 'C', Kelvin - 'K' ou Fahrenheit - 'F'.\n",
    "\n",
    "temperatura = float(input('Digite uma temperatura: '))\n",
    "escala_atual = input(\"Qual escala esse valor se encontra? Digite 'C' para Celsius, 'K' para Kelvin ou 'F' para Fahrenheit.\")\n",
    "escala_para_conversao = input(\"Para qual escala você deseja converter esse valor? Digite 'C' para Celsius, 'K' para Kelvin ou 'F' para Fahrenheit.\")\n",
    "  \n",
    "\n"
   ]
  },
  {
   "cell_type": "code",
   "execution_count": 3,
   "id": "bdfb9fea",
   "metadata": {},
   "outputs": [
    {
     "name": "stdout",
     "output_type": "stream",
     "text": [
      "Informe o valor da temperatura: 90\n",
      "Informe a escala dessa temperatura: C - Celsius; K - Kevin; F - Fahrenheit. x\n",
      "Informe a escala a qual deseja converter:  C - Celsius; K - Kevin; F - Fahrenheit. f\n",
      "A(s) escala(s) fornecida(s) não é(são) válida(s). Use apenas C, K ou F.\n"
     ]
    }
   ],
   "source": [
    "#Escreva um código em Python que recebe um número (que possa ter casas decimais) e a escala de temperatura em  que este valor se encontra e para qual ele deseja converter (Celsius, Kelvin ou Fahrenheit). Tanto na escala em que se encontra  quanto para a que deseja converter, utilize as letras iniciais como entrada: Celsius - 'C', Kelvin - 'K' ou Fahrenheit - 'F'.\n",
    "\n",
    "temperatura = float(input('Informe o valor da temperatura: '))\n",
    "escala_original = input('Informe a escala dessa temperatura: C - Celsius; K - Kevin; F - Fahrenheit. ').upper()\n",
    "escala_convertida = input('Informe a escala a qual deseja converter:  C - Celsius; K - Kevin; F - Fahrenheit. ').upper()\n",
    "\n",
    "\n",
    "if escala_original == 'C' and escala_convertida == 'F':\n",
    "    temperatura_convertida = round((9*temperatura)/5 + 32, 2)\n",
    "    print(f'{temperatura} °C corresponde a {temperatura_convertida} °F.')\n",
    "\n",
    "elif escala_original == 'F' and escala_convertida == 'C':\n",
    "    temperatura_convertida = round((5*(temperatura - 32))/9, 2)\n",
    "    print(f'{temperatura} °F corresponde a {temperatura_convertida} °C.')\n",
    "\n",
    "elif escala_original == 'K' and escala_convertida == 'C':\n",
    "    if temperatura < 0:\n",
    "        print('Não existe temperatura inferior a 0 K.')\n",
    "    else:\n",
    "        temperatura_convertida = round(temperatura - 273.15, 2)\n",
    "        print(f'{temperatura} K corresponde a {temperatura_convertida} °C.')\n",
    "\n",
    "elif escala_original == 'C' and escala_convertida == 'K':\n",
    "    temperatura_convertida = round(temperatura + 273.15, 2)\n",
    "    if temperatura_convertida < 0:\n",
    "        print('Não existe temperatura inferior a 0 K. Por favor, digite uma temperatura válida.')\n",
    "    else:\n",
    "        print(f'{temperatura} °C corresponde a {temperatura_convertida} K.')\n",
    "\n",
    "elif escala_original == 'K' and escala_convertida == 'F':\n",
    "    if temperatura < 0:\n",
    "        print('Não existe temperatura inferior a 0 K.')\n",
    "    else:\n",
    "        temperatura_convertida = round((9*(temperatura - 273.15))/5 + 32, 2)\n",
    "        print(f'{temperatura} K corresponde a {temperatura_convertida} °F.')\n",
    "\n",
    "elif escala_original == 'F' and escala_convertida == 'K' :\n",
    "    temperatura_convertida = round((5*(temperatura - 32))/9 + 273.15, 2)\n",
    "    if temperatura_convertida < 0:\n",
    "        print('Não existe temperatura inferior a 0 K. Por favor, digite uma temperatura válida.')\n",
    "    else:\n",
    "        print(f'{temperatura} °F corresponde a {temperatura_convertida} K.')\n",
    "        \n",
    "else:\n",
    "    print('A(s) escala(s) fornecida(s) não é(são) válida(s). Use apenas C, K ou F.')"
   ]
  }
 ],
 "metadata": {
  "kernelspec": {
   "display_name": "Python 3 (ipykernel)",
   "language": "python",
   "name": "python3"
  },
  "language_info": {
   "codemirror_mode": {
    "name": "ipython",
    "version": 3
   },
   "file_extension": ".py",
   "mimetype": "text/x-python",
   "name": "python",
   "nbconvert_exporter": "python",
   "pygments_lexer": "ipython3",
   "version": "3.11.5"
  }
 },
 "nbformat": 4,
 "nbformat_minor": 5
}
